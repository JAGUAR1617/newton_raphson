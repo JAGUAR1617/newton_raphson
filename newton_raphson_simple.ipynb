{
 "cells": [
  {
   "cell_type": "code",
   "execution_count": 1,
   "metadata": {},
   "outputs": [],
   "source": [
    "import numpy as np\n",
    "import math\n",
    "from math import*"
   ]
  },
  {
   "cell_type": "code",
   "execution_count": 2,
   "metadata": {},
   "outputs": [],
   "source": [
    "# starting guess\n",
    "x = np.array([1.5, 3.5])"
   ]
  },
  {
   "cell_type": "code",
   "execution_count": 52,
   "metadata": {},
   "outputs": [],
   "source": [
    "# function to calculate given functions f1, f2,....fn\n",
    "def func(x):\n",
    "    B1 = -((x[0]**2)+x[0]*x[1]-10)\n",
    "    B2 = -(x[1]+3*x[0]*x[1]*x[1]-57)\n",
    "    B1B2 = np.array([B1, B2])\n",
    "    return B1B2     # return 2 x 1 matrix \n",
    "\n",
    "# function to calculate inverse of jacobian matrix\n",
    "# after derivative of function f1, f2 with given variable\n",
    "def jaco(x):\n",
    "    J = np.array([[2*x[0]+x[1], x[0]], [3*x[1]*x[1], 1+6*x[0]*x[1]]])\n",
    "    invJ = np.linalg.inv(J)\n",
    "    return(invJ)  # return 2 x 2 inverse of jacobian matrix"
   ]
  },
  {
   "cell_type": "code",
   "execution_count": 4,
   "metadata": {},
   "outputs": [],
   "source": [
    "def delta(invJ, B1B2):\n",
    "    delta_xy = np.dot(invJ, B1B2)\n",
    "    return(delta_xy)\n",
    "    \n",
    "    "
   ]
  },
  {
   "cell_type": "code",
   "execution_count": 50,
   "metadata": {},
   "outputs": [],
   "source": [
    "def newton(x, eps):\n",
    "    jaco(x)\n",
    "    func(x)\n",
    "    norm_l = 0.01\n",
    "    i=0\n",
    "    while i < 40 and norm_l > eps:\n",
    "        delta_xy=delta(jaco(x), func(x))\n",
    "        x = x + delta_xy\n",
    "        i+=1\n",
    "    return(x)"
   ]
  },
  {
   "cell_type": "code",
   "execution_count": 51,
   "metadata": {},
   "outputs": [
    {
     "data": {
      "text/plain": [
       "array([2., 3.])"
      ]
     },
     "execution_count": 51,
     "metadata": {},
     "output_type": "execute_result"
    }
   ],
   "source": [
    "newton(x = np.array([1.5, 3.5]), eps = 0.001)"
   ]
  },
  {
   "cell_type": "code",
   "execution_count": null,
   "metadata": {},
   "outputs": [],
   "source": []
  }
 ],
 "metadata": {
  "kernelspec": {
   "display_name": "Python 3",
   "language": "python",
   "name": "python3"
  },
  "language_info": {
   "codemirror_mode": {
    "name": "ipython",
    "version": 3
   },
   "file_extension": ".py",
   "mimetype": "text/x-python",
   "name": "python",
   "nbconvert_exporter": "python",
   "pygments_lexer": "ipython3",
   "version": "3.7.3"
  }
 },
 "nbformat": 4,
 "nbformat_minor": 2
}
