{
 "cells": [
  {
   "cell_type": "markdown",
   "metadata": {},
   "source": [
    "# newton raphson \n",
    "## for equation f1(x,y)= x^2 + xy-10 and f2(x,y) = y+3xy^2-57\n",
    "###using L2 norm"
   ]
  },
  {
   "cell_type": "code",
   "execution_count": 78,
   "metadata": {},
   "outputs": [],
   "source": [
    "import numpy as np\n",
    "import math\n",
    "from math import*"
   ]
  },
  {
   "cell_type": "code",
   "execution_count": 120,
   "metadata": {},
   "outputs": [],
   "source": [
    "# starting guess\n",
    "x = np.array([1.5, 3.5])"
   ]
  },
  {
   "cell_type": "code",
   "execution_count": 41,
   "metadata": {},
   "outputs": [
    {
     "data": {
      "text/plain": [
       "array([1.5, 3.5])"
      ]
     },
     "execution_count": 41,
     "metadata": {},
     "output_type": "execute_result"
    }
   ],
   "source": [
    "x"
   ]
  },
  {
   "cell_type": "code",
   "execution_count": 122,
   "metadata": {},
   "outputs": [],
   "source": [
    "# function to calculate given functions f1, f2,....f\n",
    "def func(x):\n",
    "    B1 = -((x[0]**2)+x[0]*x[1]-10)\n",
    "    B2 = -(x[1]+3*x[0]*x[1]*x[1]-57)\n",
    "    B1B2 = np.array([B1, B2])\n",
    "    return B1B2     # return 2 x 1 matrix \n",
    "\n",
    "# function to calculate inverse of jacobian matrix\n",
    "# after derivative of function f1, f2 with given variable\n",
    "def jaco(x):\n",
    "    J = np.array([[2*x[0]+x[1], x[0]], [3*x[1]*x[1], 1+6*x[0]*x[1]]])\n",
    "    invJ = np.linalg.inv(J)\n",
    "    return(invJ)  # return 2 x 2 inverse of jacobian matrix\n"
   ]
  },
  {
   "cell_type": "code",
   "execution_count": 129,
   "metadata": {},
   "outputs": [],
   "source": [
    "# newton raphson function with four arguments \n",
    "def newton_raphson(func, jaco, x, eps):\n",
    "    func_value = func(x)\n",
    "    func_norm = np.linalg.norm(func_value)  \n",
    "    i = 0\n",
    "    while abs(func_norm) > eps and i < 100:\n",
    "        delta = np.dot(jaco(x), -func_value)   # delta = xcrurrent - x\n",
    "        x = x+delta   # uppdate the starting guess x \n",
    "        \n",
    "        func_value = func(x)    # calculate new function value with the updated guess x \n",
    "        func_norm = np.linalg.norm(func_value)\n",
    "        i+=1    # repeating \n",
    "    if abs(func_norm) > eps:\n",
    "        i = -1\n",
    "    return x, i"
   ]
  },
  {
   "cell_type": "code",
   "execution_count": 132,
   "metadata": {},
   "outputs": [],
   "source": [
    "# calculate x with respect to given condition \n",
    "\n",
    "def newton_test():\n",
    "          \n",
    "    expected = np.array([2, 3])\n",
    "    tol = 1e-3\n",
    "    x,  n  = newton_raphson(func, jaco, x = np.array([1.5, 3.5]), eps = 0.0001)\n",
    "    print (n, x)\n",
    "    \n",
    "    error_norm = np.linalg.norm(expected - x , ord =2 )\n",
    "    print ('norm of error =%g' % error_norm)\n",
    "    "
   ]
  },
  {
   "cell_type": "code",
   "execution_count": 133,
   "metadata": {},
   "outputs": [
    {
     "name": "stdout",
     "output_type": "stream",
     "text": [
      "-1 [-1.46046957e+18 -5.02179173e+10]\n",
      "norm of error =1.46047e+18\n"
     ]
    }
   ],
   "source": [
    "newton_test()"
   ]
  },
  {
   "cell_type": "code",
   "execution_count": null,
   "metadata": {},
   "outputs": [],
   "source": []
  },
  {
   "cell_type": "code",
   "execution_count": null,
   "metadata": {},
   "outputs": [],
   "source": []
  }
 ],
 "metadata": {
  "kernelspec": {
   "display_name": "Python 3",
   "language": "python",
   "name": "python3"
  },
  "language_info": {
   "codemirror_mode": {
    "name": "ipython",
    "version": 3
   },
   "file_extension": ".py",
   "mimetype": "text/x-python",
   "name": "python",
   "nbconvert_exporter": "python",
   "pygments_lexer": "ipython3",
   "version": "3.7.3"
  }
 },
 "nbformat": 4,
 "nbformat_minor": 2
}
